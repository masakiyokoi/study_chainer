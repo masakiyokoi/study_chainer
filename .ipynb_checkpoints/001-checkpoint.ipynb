{
 "cells": [
  {
   "cell_type": "markdown",
   "metadata": {},
   "source": [
    "chainerのget_mnist()でデータをダウンロードする。"
   ]
  },
  {
   "cell_type": "code",
   "execution_count": 5,
   "metadata": {},
   "outputs": [
    {
     "name": "stderr",
     "output_type": "stream",
     "text": [
      "/Users/user/.pyenv/versions/anaconda3-5.1.0/lib/python3.6/site-packages/h5py/__init__.py:36: FutureWarning: Conversion of the second argument of issubdtype from `float` to `np.floating` is deprecated. In future, it will be treated as `np.float64 == np.dtype(float).type`.\n",
      "  from ._conv import register_converters as _register_converters\n"
     ]
    }
   ],
   "source": [
    "from chainer.datasets import mnist\n",
    "\n",
    "train_val, test = mnist.get_mnist(withlabel=True, ndim=1)"
   ]
  },
  {
   "cell_type": "code",
   "execution_count": 6,
   "metadata": {},
   "outputs": [
    {
     "name": "stdout",
     "output_type": "stream",
     "text": [
      "(784,) (784,)\n",
      "60000 10000\n"
     ]
    }
   ],
   "source": [
    "print(train_val[0][0].shape,test[0][0].shape )\n",
    "print(len(train_val),len(test))"
   ]
  },
  {
   "cell_type": "code",
   "execution_count": 7,
   "metadata": {},
   "outputs": [
    {
     "name": "stdout",
     "output_type": "stream",
     "text": [
      "(784,)\n"
     ]
    },
    {
     "data": {
      "image/png": "[encoded data removed]",
      "text/plain": [
       "<matplotlib.figure.Figure at 0x1161ea6a0>"
      ]
     },
     "metadata": {},
     "output_type": "display_data"
    },
    {
     "name": "stdout",
     "output_type": "stream",
     "text": [
      "label: 5\n"
     ]
    }
   ],
   "source": [
    "# matplotlibを使ったグラフ描画結果がnotebook内に表示されるようにします。\n",
    "%matplotlib inline\n",
    "import matplotlib.pyplot as plt\n",
    "\n",
    "# データの例示\n",
    "x, t = train_val[0]  # 0番目の (data, label) を取り出す\n",
    "print(x.shape)\n",
    "plt.imshow(x.reshape(28, 28), cmap='gray')\n",
    "plt.axis('off')\n",
    "plt.show()\n",
    "print('label:', t)"
   ]
  },
  {
   "cell_type": "markdown",
   "metadata": {},
   "source": [
    "train_valをtrain(50000)とvalid(10000)に分割"
   ]
  },
  {
   "cell_type": "code",
   "execution_count": 8,
   "metadata": {},
   "outputs": [],
   "source": [
    "from chainer.datasets import split_dataset_random\n",
    "#train_valを50000,10000に分離(train,validation)\n",
    "train, valid = split_dataset_random(train_val, 50000, seed=0)"
   ]
  },
  {
   "cell_type": "markdown",
   "metadata": {},
   "source": [
    "Iteratorの作成\n",
    "パラメータ最適化の手法であるSGDではミニバッチ単位でモデルにデータを渡し、予測を行い、ラベルと比較する。そのためバッチサイズ分データとラベルを束ねる必要あり。\n"
   ]
  },
  {
   "cell_type": "markdown",
   "metadata": {},
   "source": [
    "Ietratorはデータセットから決まった数のデータとラベルを取り出し、ミニバッチを作成してくれる。"
   ]
  },
  {
   "cell_type": "markdown",
   "metadata": {},
   "source": [
    "SerialIteratorはデータセットの中のデータを順番に取り出してくる最もシンプルなIterator.\n",
    "SerialIterator(データセット,バッチサイズ)\n",
    "また、SerialIteratorの引数、repeat,shuffleについて説明する。\n",
    "repeatは渡したデータセットを繰り返し読む必要がある場合はTrue.1周終わったらそれ以上データを取り出したくない場合はFalse.\n",
    "shuffleは引数にTrueを渡すとデータセットから取り出されるデータの順番をエポック毎にランダムに変更する。\n"
   ]
  },
  {
   "cell_type": "code",
   "execution_count": 11,
   "metadata": {},
   "outputs": [],
   "source": [
    "from chainer import iterators\n",
    "\n",
    "batchsize = 128\n",
    "\n",
    "#作成した3つのIteratorは、\n",
    "#例えばtrain_iter.next()などとすると128枚の数字画像データを一括りにして返してくれます。\n",
    "\n",
    "train_iter = iterators.SerialIterator(train, batchsize) #train用ミニバッチ\n",
    "valid_iter = iterators.SerialIterator(\n",
    "    valid, batchsize, repeat=False, shuffle=False) #train確認用(validation用)ミニバッチ:1周終わったらそれ以上データを取り出さない\n",
    "test_iter = iterators.SerialIterator(\n",
    "    test, batchsize, repeat=False, shuffle=False) #test用ミニバッチ"
   ]
  },
  {
   "cell_type": "code",
   "execution_count": 13,
   "metadata": {},
   "outputs": [
    {
     "ename": "RuntimeError",
     "evalue": "CUDA environment is not correctly set up\n(see https://github.com/chainer/chainer#installation).No module named 'cupy'",
     "output_type": "error",
     "traceback": [
      "\u001b[0;31m---------------------------------------------------------------------------\u001b[0m",
      "\u001b[0;31mRuntimeError\u001b[0m                              Traceback (most recent call last)",
      "\u001b[0;32m<ipython-input-13-000cb2b395dd>\u001b[0m in \u001b[0;36m<module>\u001b[0;34m()\u001b[0m\n\u001b[1;32m     24\u001b[0m \u001b[0;34m\u001b[0m\u001b[0m\n\u001b[1;32m     25\u001b[0m \u001b[0;32mif\u001b[0m \u001b[0mgpu_id\u001b[0m \u001b[0;34m>=\u001b[0m \u001b[0;36m0\u001b[0m\u001b[0;34m:\u001b[0m\u001b[0;34m\u001b[0m\u001b[0m\n\u001b[0;32m---> 26\u001b[0;31m     \u001b[0mnet\u001b[0m\u001b[0;34m.\u001b[0m\u001b[0mto_gpu\u001b[0m\u001b[0;34m(\u001b[0m\u001b[0mgpu_id\u001b[0m\u001b[0;34m)\u001b[0m\u001b[0;34m\u001b[0m\u001b[0m\n\u001b[0m",
      "\u001b[0;32m~/.pyenv/versions/anaconda3-5.1.0/lib/python3.6/site-packages/chainer/link.py\u001b[0m in \u001b[0;36mto_gpu\u001b[0;34m(self, device)\u001b[0m\n\u001b[1;32m    922\u001b[0m \u001b[0;34m\u001b[0m\u001b[0m\n\u001b[1;32m    923\u001b[0m     \u001b[0;32mdef\u001b[0m \u001b[0mto_gpu\u001b[0m\u001b[0;34m(\u001b[0m\u001b[0mself\u001b[0m\u001b[0;34m,\u001b[0m \u001b[0mdevice\u001b[0m\u001b[0;34m=\u001b[0m\u001b[0;32mNone\u001b[0m\u001b[0;34m)\u001b[0m\u001b[0;34m:\u001b[0m\u001b[0;34m\u001b[0m\u001b[0m\n\u001b[0;32m--> 924\u001b[0;31m         \u001b[0;32mwith\u001b[0m \u001b[0mcuda\u001b[0m\u001b[0;34m.\u001b[0m\u001b[0m_get_device\u001b[0m\u001b[0;34m(\u001b[0m\u001b[0mdevice\u001b[0m\u001b[0;34m)\u001b[0m\u001b[0;34m:\u001b[0m\u001b[0;34m\u001b[0m\u001b[0m\n\u001b[0m\u001b[1;32m    925\u001b[0m             \u001b[0msuper\u001b[0m\u001b[0;34m(\u001b[0m\u001b[0mChain\u001b[0m\u001b[0;34m,\u001b[0m \u001b[0mself\u001b[0m\u001b[0;34m)\u001b[0m\u001b[0;34m.\u001b[0m\u001b[0mto_gpu\u001b[0m\u001b[0;34m(\u001b[0m\u001b[0;34m)\u001b[0m\u001b[0;34m\u001b[0m\u001b[0m\n\u001b[1;32m    926\u001b[0m             \u001b[0md\u001b[0m \u001b[0;34m=\u001b[0m \u001b[0mself\u001b[0m\u001b[0;34m.\u001b[0m\u001b[0m__dict__\u001b[0m\u001b[0;34m\u001b[0m\u001b[0m\n",
      "\u001b[0;32m~/.pyenv/versions/anaconda3-5.1.0/lib/python3.6/site-packages/chainer/backends/cuda.py\u001b[0m in \u001b[0;36m_get_device\u001b[0;34m(*args)\u001b[0m\n\u001b[1;32m    230\u001b[0m     \u001b[0;32mfor\u001b[0m \u001b[0marg\u001b[0m \u001b[0;32min\u001b[0m \u001b[0margs\u001b[0m\u001b[0;34m:\u001b[0m\u001b[0;34m\u001b[0m\u001b[0m\n\u001b[1;32m    231\u001b[0m         \u001b[0;32mif\u001b[0m \u001b[0mtype\u001b[0m\u001b[0;34m(\u001b[0m\u001b[0marg\u001b[0m\u001b[0;34m)\u001b[0m \u001b[0;32mis\u001b[0m \u001b[0;32mnot\u001b[0m \u001b[0mbool\u001b[0m \u001b[0;32mand\u001b[0m \u001b[0misinstance\u001b[0m\u001b[0;34m(\u001b[0m\u001b[0marg\u001b[0m\u001b[0;34m,\u001b[0m \u001b[0m_integer_types\u001b[0m\u001b[0;34m)\u001b[0m\u001b[0;34m:\u001b[0m\u001b[0;34m\u001b[0m\u001b[0m\n\u001b[0;32m--> 232\u001b[0;31m             \u001b[0mcheck_cuda_available\u001b[0m\u001b[0;34m(\u001b[0m\u001b[0;34m)\u001b[0m\u001b[0;34m\u001b[0m\u001b[0m\n\u001b[0m\u001b[1;32m    233\u001b[0m             \u001b[0;32mreturn\u001b[0m \u001b[0mDevice\u001b[0m\u001b[0;34m(\u001b[0m\u001b[0marg\u001b[0m\u001b[0;34m)\u001b[0m\u001b[0;34m\u001b[0m\u001b[0m\n\u001b[1;32m    234\u001b[0m         \u001b[0;32mif\u001b[0m \u001b[0misinstance\u001b[0m\u001b[0;34m(\u001b[0m\u001b[0marg\u001b[0m\u001b[0;34m,\u001b[0m \u001b[0mndarray\u001b[0m\u001b[0;34m)\u001b[0m\u001b[0;34m:\u001b[0m\u001b[0;34m\u001b[0m\u001b[0m\n",
      "\u001b[0;32m~/.pyenv/versions/anaconda3-5.1.0/lib/python3.6/site-packages/chainer/backends/cuda.py\u001b[0m in \u001b[0;36mcheck_cuda_available\u001b[0;34m()\u001b[0m\n\u001b[1;32m     91\u001b[0m                '(see https://github.com/chainer/chainer#installation).')\n\u001b[1;32m     92\u001b[0m         \u001b[0mmsg\u001b[0m \u001b[0;34m+=\u001b[0m \u001b[0mstr\u001b[0m\u001b[0;34m(\u001b[0m\u001b[0m_resolution_error\u001b[0m\u001b[0;34m)\u001b[0m\u001b[0;34m\u001b[0m\u001b[0m\n\u001b[0;32m---> 93\u001b[0;31m         \u001b[0;32mraise\u001b[0m \u001b[0mRuntimeError\u001b[0m\u001b[0;34m(\u001b[0m\u001b[0mmsg\u001b[0m\u001b[0;34m)\u001b[0m\u001b[0;34m\u001b[0m\u001b[0m\n\u001b[0m\u001b[1;32m     94\u001b[0m     if (not cudnn_enabled and\n\u001b[1;32m     95\u001b[0m             \u001b[0;32mnot\u001b[0m \u001b[0m_cudnn_disabled_by_user\u001b[0m \u001b[0;32mand\u001b[0m\u001b[0;34m\u001b[0m\u001b[0m\n",
      "\u001b[0;31mRuntimeError\u001b[0m: CUDA environment is not correctly set up\n(see https://github.com/chainer/chainer#installation).No module named 'cupy'"
     ]
    }
   ],
   "source": [
    "import chainer\n",
    "#Linksはパラメータありの関数、Functionはなし\n",
    "import chainer.links as L\n",
    "import chainer.functions as F\n",
    "\n",
    "#モデル\n",
    "class MLP(chainer.Chain):\n",
    "    def __init__(self,n_mid_units = 100,n_out = 10):\n",
    "        super(MLP,self).__init__()\n",
    "        \n",
    "        #パラメータを持つ層の登録\n",
    "        with self.init_scope():\n",
    "            #各層ごとの定義:L.Linearは全結合を意味する\n",
    "            self.l1 = L.Linear(None,n_mid_units)\n",
    "            self.l2 = L.Linear(n_mid_units,n_mid_units)\n",
    "            self.l3 = L.Linear(n_mid_units,n_out)\n",
    "    def forward(self,x):\n",
    "        #forward計算\n",
    "        h1 = F.relu(self.l1(x)) #l1層の計算(relu関数)\n",
    "        h2 = F.relu(self.l2(h1))\n",
    "        return self.l3(h2)\n",
    "\n",
    "gpu_id = 0 #cpuの場合は-1\n",
    "\n",
    "net = MLP()\n",
    "\n",
    "if gpu_id >= 0:\n",
    "    net.to_gpu(gpu_id)\n"
   ]
  },
  {
   "cell_type": "code",
   "execution_count": 53,
   "metadata": {},
   "outputs": [
    {
     "name": "stdout",
     "output_type": "stream",
     "text": [
      "variable W(None)\n",
      "(100, 100)\n",
      "(10, 100)\n"
     ]
    }
   ],
   "source": [
    "print(net.l1.W)\n",
    "print(net.l2.W.shape)\n",
    "print(net.l3.W.shape)\n"
   ]
  },
  {
   "cell_type": "code",
   "execution_count": 54,
   "metadata": {},
   "outputs": [],
   "source": [
    "from chainer import optimizers\n",
    "#シンプルな勾配降下法であるSGD:lrは学習率\n",
    "optimizer = optimizers.SGD(lr=0.01).setup(net)"
   ]
  },
  {
   "cell_type": "markdown",
   "metadata": {},
   "source": [
    "chainer.valiableは今までの計算の過程を辿れるようになっている。\n",
    "ロス関数はchainer.valiableのオブジェクトであり、backward()メソッドを呼ぶだけで誤差逆伝播法の計算グラフを構築し、パラメータの呼応ばいを計算してくれる。"
   ]
  },
  {
   "cell_type": "code",
   "execution_count": 58,
   "metadata": {},
   "outputs": [
    {
     "name": "stdout",
     "output_type": "stream",
     "text": [
      "epoch:31 train_loss:0.1171val_loss:0.1748 val_accuracy:0.9494\n",
      "epoch:32 train_loss:0.1105val_loss:0.1717 val_accuracy:0.9513\n",
      "epoch:33 train_loss:0.1228val_loss:0.1689 val_accuracy:0.9503\n",
      "epoch:34 train_loss:0.1317val_loss:0.1671 val_accuracy:0.9515\n",
      "epoch:35 train_loss:0.1841val_loss:0.1635 val_accuracy:0.9533\n",
      "epoch:36 train_loss:0.0908val_loss:0.1631 val_accuracy:0.9528\n",
      "epoch:37 train_loss:0.1161val_loss:0.1592 val_accuracy:0.9538\n",
      "epoch:38 train_loss:0.1784val_loss:0.1565 val_accuracy:0.9548\n",
      "epoch:39 train_loss:0.1220val_loss:0.1559 val_accuracy:0.9546\n",
      "epoch:40 train_loss:0.1052val_loss:0.1536 val_accuracy:0.9555\n",
      "epoch:41 train_loss:0.1973val_loss:0.1530 val_accuracy:0.9557\n",
      "epoch:42 train_loss:0.1363val_loss:0.1489 val_accuracy:0.9562\n",
      "epoch:43 train_loss:0.1108val_loss:0.1471 val_accuracy:0.9569\n",
      "epoch:44 train_loss:0.0803val_loss:0.1460 val_accuracy:0.9565\n",
      "epoch:45 train_loss:0.1260val_loss:0.1443 val_accuracy:0.9573\n",
      "epoch:46 train_loss:0.1314val_loss:0.1429 val_accuracy:0.9576\n",
      "epoch:47 train_loss:0.1150val_loss:0.1411 val_accuracy:0.9585\n",
      "epoch:48 train_loss:0.0734val_loss:0.1398 val_accuracy:0.9588\n",
      "epoch:49 train_loss:0.1145val_loss:0.1377 val_accuracy:0.9598\n",
      "epoch:50 train_loss:0.1173val_loss:0.1379 val_accuracy:0.9596\n",
      "epoch:51 train_loss:0.2612val_loss:0.1366 val_accuracy:0.9611\n",
      "epoch:52 train_loss:0.1303val_loss:0.1350 val_accuracy:0.9609\n",
      "epoch:53 train_loss:0.0913val_loss:0.1332 val_accuracy:0.9615\n",
      "epoch:54 train_loss:0.1200val_loss:0.1308 val_accuracy:0.9614\n",
      "epoch:55 train_loss:0.0364val_loss:0.1304 val_accuracy:0.9610\n",
      "epoch:56 train_loss:0.0718val_loss:0.1293 val_accuracy:0.9621\n",
      "epoch:57 train_loss:0.0519val_loss:0.1283 val_accuracy:0.9626\n",
      "epoch:58 train_loss:0.0749val_loss:0.1270 val_accuracy:0.9621\n",
      "epoch:59 train_loss:0.1050val_loss:0.1266 val_accuracy:0.9629\n",
      "epoch:60 train_loss:0.0754val_loss:0.1261 val_accuracy:0.9625\n",
      "epoch:61 train_loss:0.0842val_loss:0.1239 val_accuracy:0.9635\n",
      "epoch:62 train_loss:0.1398val_loss:0.1228 val_accuracy:0.9626\n",
      "epoch:63 train_loss:0.0968val_loss:0.1219 val_accuracy:0.9641\n",
      "epoch:64 train_loss:0.1169val_loss:0.1225 val_accuracy:0.9630\n",
      "epoch:65 train_loss:0.0546val_loss:0.1213 val_accuracy:0.9631\n",
      "epoch:66 train_loss:0.1659val_loss:0.1201 val_accuracy:0.9634\n",
      "epoch:67 train_loss:0.0765val_loss:0.1190 val_accuracy:0.9637\n",
      "epoch:68 train_loss:0.0886val_loss:0.1189 val_accuracy:0.9642\n",
      "epoch:69 train_loss:0.0760val_loss:0.1178 val_accuracy:0.9644\n",
      "epoch:70 train_loss:0.0668val_loss:0.1175 val_accuracy:0.9650\n",
      "epoch:71 train_loss:0.0345val_loss:0.1157 val_accuracy:0.9646\n",
      "epoch:72 train_loss:0.0748val_loss:0.1149 val_accuracy:0.9645\n",
      "epoch:73 train_loss:0.0955val_loss:0.1160 val_accuracy:0.9656\n",
      "epoch:74 train_loss:0.0913val_loss:0.1141 val_accuracy:0.9650\n",
      "epoch:75 train_loss:0.0549val_loss:0.1131 val_accuracy:0.9656\n",
      "epoch:76 train_loss:0.1077val_loss:0.1127 val_accuracy:0.9661\n",
      "epoch:77 train_loss:0.0854val_loss:0.1119 val_accuracy:0.9651\n",
      "epoch:78 train_loss:0.0500val_loss:0.1113 val_accuracy:0.9648\n",
      "epoch:79 train_loss:0.0490val_loss:0.1102 val_accuracy:0.9657\n",
      "epoch:80 train_loss:0.0667val_loss:0.1095 val_accuracy:0.9661\n",
      "epoch:81 train_loss:0.1438val_loss:0.1088 val_accuracy:0.9662\n",
      "epoch:82 train_loss:0.0855val_loss:0.1082 val_accuracy:0.9664\n",
      "epoch:83 train_loss:0.0846val_loss:0.1082 val_accuracy:0.9665\n",
      "epoch:84 train_loss:0.0396val_loss:0.1092 val_accuracy:0.9662\n",
      "epoch:85 train_loss:0.0463val_loss:0.1068 val_accuracy:0.9670\n",
      "epoch:86 train_loss:0.0535val_loss:0.1074 val_accuracy:0.9666\n",
      "epoch:87 train_loss:0.0947val_loss:0.1082 val_accuracy:0.9674\n",
      "epoch:88 train_loss:0.0231val_loss:0.1052 val_accuracy:0.9665\n",
      "epoch:89 train_loss:0.0449val_loss:0.1052 val_accuracy:0.9675\n",
      "epoch:90 train_loss:0.0513val_loss:0.1043 val_accuracy:0.9679\n",
      "epoch:91 train_loss:0.0584val_loss:0.1055 val_accuracy:0.9673\n",
      "epoch:92 train_loss:0.0374val_loss:0.1037 val_accuracy:0.9678\n",
      "epoch:93 train_loss:0.0592val_loss:0.1033 val_accuracy:0.9677\n",
      "epoch:94 train_loss:0.1718val_loss:0.1041 val_accuracy:0.9680\n",
      "epoch:95 train_loss:0.0376val_loss:0.1029 val_accuracy:0.9678\n",
      "epoch:96 train_loss:0.1012val_loss:0.1018 val_accuracy:0.9673\n",
      "epoch:97 train_loss:0.0298val_loss:0.1012 val_accuracy:0.9681\n",
      "epoch:98 train_loss:0.0368val_loss:0.1012 val_accuracy:0.9680\n",
      "epoch:99 train_loss:0.0289val_loss:0.1017 val_accuracy:0.9686\n",
      "epoch:100 train_loss:0.0225val_loss:0.1003 val_accuracy:0.9686\n",
      "test_accuracy:0.9718\n"
     ]
    }
   ],
   "source": [
    "#学習ループのコード\n",
    "import numpy as np\n",
    "from chainer.dataset import concat_examples\n",
    "from chainer.cuda import to_cpu\n",
    "\n",
    "max_epoch = 100\n",
    "\n",
    "while train_iter.epoch < max_epoch: #train_iterで取得したtrainデータセット(128で1epoch)を100epoch繰り返す。\n",
    "   \n",
    "    \n",
    "    #-------学習の1イテレーション---------\n",
    "    train_batch = train_iter.next() #train_batchに新たなの128枚を代入\n",
    "    x,t = concat_examples(train_batch, gpu_id) #concat_examplesはタプルをデータとラベルに分解\n",
    "    \n",
    "    #予測値の計算\n",
    "    y = net(x) #モデルにデータを代入\n",
    "    \n",
    "    #ロスの計算\n",
    "    loss = F.softmax_cross_entropy(y,t) #モデルの出力とラベルとのlossを算出\n",
    "    \n",
    "    #勾配の計算\n",
    "    net.cleargrads()\n",
    "    loss.backward() #誤差逆伝播法で勾配の算出\n",
    "    \n",
    "    #パラメータの更新\n",
    "    optimizer.update() #updateメソッドでbackward()で求めた勾配を更新\n",
    "    #---------ここまで---------\n",
    "    \n",
    "    # 1エポック終了ごとにValidationデータに対する予測精度を測って、\n",
    "    # モデルの汎化性能が向上していることをチェック\n",
    "    \n",
    "    if train_iter.is_new_epoch: #1epochが終わったら\n",
    "        \n",
    "        #ロスの表示\n",
    "        print('epoch:{:02d} train_loss:{:.04f}'.format(train_iter.epoch,float(to_cpu(loss.data))),end = '')\n",
    "        #format(今のepoch数,cpuで計算するloss,改行なし)\n",
    "        valid_losses = []\n",
    "        valid_accurcies = []\n",
    "        \n",
    "        #validation\n",
    "        while True:\n",
    "            valid_batch = valid_iter.next() #valid_uterで128枚の画像を取得\n",
    "            x_valid,t_valid = concat_examples(valid_batch,gpu_id) #タプルであるvalid_batchをtrainデータとラベルデータに分解する。\n",
    "            \n",
    "            #varidationデータをforward\n",
    "            with chainer.using_config('train',False),chainer.using_config('enable_backprop',False):#Falseは学習はしないという意味\n",
    "                y_valid = net(x_valid) #validationデータを学習させる\n",
    "                \n",
    "            \n",
    "            #ロスを計算\n",
    "            loss_valid = F.softmax_cross_entropy(y_valid,t_valid)\n",
    "            valid_losses.append(to_cpu(loss_valid.array)) \n",
    "            \n",
    "            #精度を計算\n",
    "            accuracy = F.accuracy(y_valid,t_valid)\n",
    "            accuracy.to_cpu()\n",
    "            valid_accurcies.append(accuracy.array)\n",
    "            \n",
    "            if valid_iter.is_new_epoch: #1epoch終えたら\n",
    "                valid_iter.reset() #valid_iterを初期化\n",
    "                break\n",
    "        print('val_loss:{:.04f} val_accuracy:{:.04f}'.format(np.mean(valid_losses),np.mean(valid_accurcies)))\n",
    "        \n",
    "#テストデータでの評価\n",
    "\n",
    "test_accuracies = []\n",
    "while True:\n",
    "    test_batch = test_iter.next()\n",
    "    x_test,t_test = concat_examples(test_batch,gpu_id)\n",
    "    \n",
    "    #テストデータをforward\n",
    "    with chainer.using_config('train',False),chainer.using_config('enable_backprop',False):#学習はしないという意味\n",
    "        y_test = net(x_test)\n",
    "        \n",
    "    #精度を計算\n",
    "    accuracy = F.accuracy(y_test,t_test)\n",
    "    accuracy.to_cpu()\n",
    "    test_accuracies.append(accuracy.array)\n",
    "    \n",
    "    if test_iter.is_new_epoch:\n",
    "        test_iter.reset()\n",
    "        break\n",
    "print('test_accuracy:{:.04f}'.format(np.mean(test_accuracies)))\n",
    "    \n",
    "    \n",
    "\n",
    "\n",
    "    \n",
    "    "
   ]
  },
  {
   "cell_type": "code",
   "execution_count": null,
   "metadata": {},
   "outputs": [],
   "source": []
  }
 ],
 "metadata": {
  "kernelspec": {
   "display_name": "Python 3",
   "language": "python",
   "name": "python3"
  },
  "language_info": {
   "codemirror_mode": {
    "name": "ipython",
    "version": 3
   },
   "file_extension": ".py",
   "mimetype": "text/x-python",
   "name": "python",
   "nbconvert_exporter": "python",
   "pygments_lexer": "ipython3",
   "version": "3.6.4"
  }
 },
 "nbformat": 4,
 "nbformat_minor": 2
}
